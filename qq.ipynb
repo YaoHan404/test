{
 "cells": [
  {
   "cell_type": "code",
   "execution_count": null,
   "metadata": {},
   "outputs": [],
   "source": [
    "from sklearn.svm import SVC\n",
    "import csv\n",
    "\n",
    "\n",
    "x_train = []\n",
    "y_train = []\n",
    "with open('train-best200.txt', 'rt') as csvfile:\n",
    "    reader = csv.reader(csvfile, delimiter=',')\n",
    "    i=0\n",
    "    user_id=''\n",
    "    for row in reader:\n",
    "        if i==0:\n",
    "            user_id=row[1]\n",
    "            row_data=[]\n",
    "            for j in range(454):\n",
    "                row_data.append(int(row[j+2]))\n",
    "            x_train.append(row_data)\n",
    "            if row[456]== 'NewYork':\n",
    "                y_train.append(0)\n",
    "            elif row[456]=='California':\n",
    "                y_train.append(1)\n",
    "            else:\n",
    "                y_train.append(2)\n",
    "        else:\n",
    "            if user_id != row[1]:\n",
    "                user_id=row[1]\n",
    "                row_data=[]\n",
    "                for j in range(454):\n",
    "                    row_data.append(int(row[j+2]))\n",
    "                x_train.append(row_data)\n",
    "                if row[456]== 'NewYork':\n",
    "                    y_train.append(0)\n",
    "                elif row[456]=='California':\n",
    "                    y_train.append(1)\n",
    "                else:\n",
    "                    y_train.append(2)\n",
    "            else:\n",
    "                for j in range(454):\n",
    "                    len_x_train=len(x_train)\n",
    "                    x_train[len_x_train-1][j]+=int(row[2+j])\n",
    "        i+=1\n",
    "\n",
    "\n"
   ]
  },
  {
   "cell_type": "code",
   "execution_count": null,
   "metadata": {},
   "outputs": [],
   "source": [
    "                \n",
    "    \n",
    "x_test = []\n",
    "with open('test-best200.txt', 'rt') as csvfile:\n",
    "    reader = csv.reader(csvfile, delimiter=',')\n",
    "    i=0\n",
    "    user_id=''\n",
    "    for row in reader:\n",
    "        if i==0:\n",
    "            user_id=row[1]\n",
    "            row_data=[]\n",
    "            for j in range(454):\n",
    "                row_data.append(int(row[j+2]))\n",
    "            x_test.append(row_data)\n",
    "        else:\n",
    "            if user_id != row[1]:\n",
    "                user_id=row[1]\n",
    "                row_data=[]\n",
    "                for j in range(454):\n",
    "                    row_data.append(int(row[j+2]))\n",
    "                x_test.append(row_data)\n",
    "            else:\n",
    "                for j in range(454):\n",
    "                    len_x_test=len(x_test)\n",
    "                    x_test[len_x_test-1][j]+=int(row[2+j])\n",
    "        i+=1\n"
   ]
  },
  {
   "cell_type": "code",
   "execution_count": null,
   "metadata": {},
   "outputs": [],
   "source": [
    "from sklearn.tree import DecisionTreeClassifier\n",
    "tree = DecisionTreeClassifier(max_depth=13,random_state=1)\n",
    "tree.fit(x_train,y_train)\n",
    "print('Train score:{:.3f}'.format(tree.score(x_train,y_train)))\n"
   ]
  },
  {
   "cell_type": "code",
   "execution_count": null,
   "metadata": {},
   "outputs": [],
   "source": [
    "pred = tree.predict(x_test)\n",
    "label_list = list()\n",
    "for index in range(len(pred)):\n",
    "    if pred[index]==0:\n",
    "        label_list.append('NewYork')\n",
    "    elif pred[index]==1:\n",
    "        print\n",
    "        label_list.append('California')\n",
    "    else:\n",
    "        label_list.append('Georgia')"
   ]
  },
  {
   "cell_type": "code",
   "execution_count": null,
   "metadata": {},
   "outputs": [],
   "source": [
    "id_list = []\n",
    "with open('test-most200.txt', 'rt') as csvfile:\n",
    "    reader = csv.reader(csvfile, delimiter=',')\n",
    "    for row in reader:\n",
    "        id_list.append(row[0])\n",
    "        "
   ]
  },
  {
   "cell_type": "code",
   "execution_count": null,
   "metadata": {},
   "outputs": [],
   "source": [
    "label_list_final=[]\n",
    "with open('test-most200.txt', 'rt') as csvfile:\n",
    "    reader = csv.reader(csvfile, delimiter=',')\n",
    "    i=0\n",
    "    last_id=''\n",
    "    index_label=0\n",
    "    for row in reader:\n",
    "        if i==0:\n",
    "            last_id=row[1]\n",
    "        if row[1]==last_id:\n",
    "            label_list_final.append(label_list[index_label])\n",
    "        else:\n",
    "            last_id=row[1]\n",
    "            index_label+=1\n",
    "            label_list_final.append(label_list[index_label])\n",
    "        i+=1"
   ]
  },
  {
   "cell_type": "code",
   "execution_count": null,
   "metadata": {},
   "outputs": [],
   "source": [
    "import pandas as pd\n",
    " \n",
    "#字典中的key值即为csv中列名\n",
    "dataframe = pd.DataFrame({'tweet-id':id_list,'class':label_list_final})\n",
    " \n",
    "#将DataFrame存储为csv,index表示是否显示行名，default=True\n",
    "dataframe.to_csv(\"final.csv\",index=False,sep=',')"
   ]
  }
 ],
 "metadata": {
  "kernelspec": {
   "display_name": "pytorch",
   "language": "python",
   "name": "pytorch"
  },
  "language_info": {
   "codemirror_mode": {
    "name": "ipython",
    "version": 3
   },
   "file_extension": ".py",
   "mimetype": "text/x-python",
   "name": "python",
   "nbconvert_exporter": "python",
   "pygments_lexer": "ipython3",
   "version": "3.6.9"
  }
 },
 "nbformat": 4,
 "nbformat_minor": 2
}
